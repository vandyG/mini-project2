{
 "cells": [
  {
   "cell_type": "markdown",
   "metadata": {},
   "source": [
    "To complete this task, you need to write two functions to calculate student’s final grade:  \n",
    "\n",
    ">calculate_student_score and calculate_letter_grade, where the output of the first function will be use as the parameter for the second function.  \n",
    "\n",
    "Below are the required function signatures:\n",
    "\n",
    "    def calculate_student_score(PA, mid_term_exam, final_exam):\n",
    "**Description**:  \n",
    "For this function, your task is to calculate a student's weighted score based on their Programming Assignment (PA), mid-term, and final exam scores. If a student has a score of zero in the final exam, they will receive a weighted score of zero, regardless of their other scores. If the midterm exam is not taken (score is zero), the score of the final exam will be used as a replacement.\n",
    "\n",
    "Additionally, please take into account the following weightage for each score:\n",
    "- PA score carries a weight of 40%.\n",
    "- Mid-term exam score carries a weight of 30%.\n",
    "- Final exam score carries a weight of 30%.\n",
    "\n",
    "**Parameters**:  \n",
    "`PA` (float, denoting student’s PA score)  \n",
    "`mid_term_exam` (float, denoting student’s mid-term exam score)  \n",
    "`final_exam` (float, denoting student’s final exam score)  \n",
    "\n",
    "**Assumptions**:  \n",
    "scores are non-negative (>= 0) with a maximum value of 100.\n",
    "\n",
    "**Return value**:  \n",
    "A float, indicating the students’ weighted score.\n",
    "\n",
    "**Examples**:\n",
    "\n",
    "    calculate_student_score(100.0, 90.0, 95.0) → 95.5  \n",
    "    calculate_student_score(50.0, 70.0, 0.0) → 0.0  \n",
    "    calculate_student_score(80.0, 0.0, 50.0) → 62.0  \n",
    "\n",
    "    def calculate_letter_grade(score):\n",
    "    \n",
    "**Description**:  \n",
    "For this function, your task is to assess a student's score and determine their final letter grade based on the following criteria:\n",
    "\n",
    "> Scores between (90 – 100] → “A”  \n",
    "> Scores between (80 – 90] → “B”  \n",
    "> Scores between (70 – 80] → “C”  \n",
    "> Scores between [60 – 70] → “D”  \n",
    "> Scores below 60 → “F”  \n",
    "\n",
    "**Parameters**:  \n",
    "`score` (float, denoting student’s score)\n",
    "\n",
    "**Assumptions**: `score` is non-negative (>= 0) with a maximum value of 100.\n",
    "**Return value**: A str, indicating the students’ final grade.\n",
    "\n",
    "**Examples**:\n",
    "\n",
    "    calculate_letter_grade(95.5) → “A”\n",
    "    calculate_letter_grade(0.0) → “F”\n",
    "    calculate_letter_grade(62.0) → “D”"
   ]
  },
  {
   "cell_type": "code",
   "execution_count": 2,
   "metadata": {},
   "outputs": [],
   "source": [
    "def calculate_student_score(\n",
    "    PA: float = 0.0, mid_term_exam: float = 0.0, final_exam: float = 0.0\n",
    ") -> float:\n",
    "    \"\"\"Calculate studet score.\n",
    "\n",
    "    Calculate a student's weighted score based on their Programming Assignment (PA), mid-term, and\n",
    "    final exam scores. If a student has a score of zero in the final exam, they will receive a\n",
    "    weighted score of zero, regardless of their other scores. If the midterm exam is not taken\n",
    "    (score is zero), the score of the final exam will be used as a replacement.\n",
    "\n",
    "    Additionally, please take into account the following weightage for each score:\n",
    "    - PA score carries a weight of 40%.\n",
    "    - Mid-term exam score carries a weight of 30%.\n",
    "    - Final exam score carries a weight of 30%.\n",
    "\n",
    "    Args:\n",
    "        PA (float): denoting student's PA score\n",
    "        mid_term_exam (float): denoting student's mid-term exam score\n",
    "        final_exam (float): denoting student'ArithmeticErrors final exam score\n",
    "\n",
    "    Returns:\n",
    "        float: indicating the students' weighted score.\n",
    "    \"\"\"\n",
    "    if final_exam == 0:\n",
    "        return 0.0\n",
    "    elif mid_term_exam == 0:\n",
    "        return PA * 0.4 + final_exam * 0.3 + final_exam * 0.3\n",
    "    else:\n",
    "        return PA * 0.4 + final_exam * 0.3 + mid_term_exam * 0.3\n"
   ]
  },
  {
   "cell_type": "code",
   "execution_count": 3,
   "metadata": {},
   "outputs": [
    {
     "name": "stdout",
     "output_type": "stream",
     "text": [
      "95.5\n",
      "0.0\n",
      "62.0\n"
     ]
    }
   ],
   "source": [
    "print(calculate_student_score(100.0, 90.0, 95.0)) # 95.5\n",
    "print(calculate_student_score(50.0, 70.0, 0.0)) # 0.0\n",
    "print(calculate_student_score(80.0, 0.0, 50.0)) # 62.0"
   ]
  },
  {
   "cell_type": "code",
   "execution_count": 4,
   "metadata": {},
   "outputs": [],
   "source": [
    "def calculate_letter_grade(score: float) -> str:\n",
    "    \"\"\"Assess a student's score and determine their final letter grade.\n",
    "\n",
    "    Scores between (90 - 100] -> “A”\n",
    "    Scores between (80 - 90] -> “B”\n",
    "    Scores between (70 - 80] -> “C”\n",
    "    Scores between [60 - 70] -> “D”\n",
    "    Scores below 60 -> “F”\n",
    "\n",
    "    Args:\n",
    "        score (float): denoting student's score\n",
    "\n",
    "    Returns:\n",
    "        str: indicating the students' final grade.\n",
    "    \"\"\"\n",
    "    if score >= 90:\n",
    "        return \"A\"\n",
    "    elif score >= 80:\n",
    "        return \"B\"\n",
    "    elif score >= 70:\n",
    "        return \"C\"\n",
    "    elif score >= 60:\n",
    "        return \"D\"\n",
    "    else:\n",
    "        return \"F\""
   ]
  },
  {
   "cell_type": "code",
   "execution_count": 6,
   "metadata": {},
   "outputs": [
    {
     "name": "stdout",
     "output_type": "stream",
     "text": [
      "A\n",
      "F\n",
      "D\n"
     ]
    }
   ],
   "source": [
    "print(calculate_letter_grade(95.5)) # \"A\"\n",
    "print(calculate_letter_grade(0.0)) # \"F\"\n",
    "print(calculate_letter_grade(62.0)) # \"D\""
   ]
  },
  {
   "cell_type": "code",
   "execution_count": 8,
   "metadata": {},
   "outputs": [
    {
     "name": "stdout",
     "output_type": "stream",
     "text": [
      "A\n",
      "F\n",
      "D\n"
     ]
    }
   ],
   "source": [
    "# Using output of calculate_student_score as argument for calculate_letter_grade\n",
    "score = (100.0, 90.0, 95.0)\n",
    "print(calculate_letter_grade(calculate_student_score(*score)))\n",
    "score = (50.0, 70.0, 0.0)\n",
    "print(calculate_letter_grade(calculate_student_score(*score)))\n",
    "score = (80.0, 0.0, 50.0)\n",
    "print(calculate_letter_grade(calculate_student_score(*score)))"
   ]
  }
 ],
 "metadata": {
  "kernelspec": {
   "display_name": "base",
   "language": "python",
   "name": "python3"
  },
  "language_info": {
   "codemirror_mode": {
    "name": "ipython",
    "version": 3
   },
   "file_extension": ".py",
   "mimetype": "text/x-python",
   "name": "python",
   "nbconvert_exporter": "python",
   "pygments_lexer": "ipython3",
   "version": "3.12.2"
  }
 },
 "nbformat": 4,
 "nbformat_minor": 2
}
