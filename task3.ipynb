{
 "cells": [
  {
   "cell_type": "markdown",
   "metadata": {},
   "source": [
    "To complete this task, there is a need to write two functions where the first function needs to be called (is_discount_applicable) within the body of the second function (book_price). Below are the function signatures:\n",
    "\n",
    "    def is_discount_applicable(age, is_military, major, gpa):\n",
    "\n",
    "**Description**:  \n",
    "For this function, your task is to check if a customer is eligible to receive a discount based on their age, military status, major, and GPA, according to the following criteria:\n",
    "- Persons in military services: are eligible.\n",
    "- Seniors (60 and above): are eligible.\n",
    "- Students in the 'CSE' major with a GPA of at least 3.7 are also eligible.\n",
    "\n",
    "**Parameters**: \n",
    "\n",
    "`age` (int, indicating customer’s age)  \n",
    "`is_military` (bool, indicating the military status of customer)  \n",
    "`major` (str, indicating customer’s major)  \n",
    "`gpa` (float, indicating customer’s gpa)  \n",
    "\n",
    "**Assumptions**: `gpa` is non-negative (>= 0) with maximum value of 4.\n",
    "\n",
    "**Return value**: A bool, indicating whether the customer is eligible for a discount or not.\n",
    "\n",
    "**Examples**:\n",
    "\n",
    "    is_discount_applicable(16, False, “CSE”, 3.8) → True\n",
    "    is_discount_applicable(37, True, “”, 0.0) → True\n",
    "    is_discount_applicable(24, False, “ISt”, 4.0) → False\n",
    "    is_discount_applicable(71, False, “”, 0.0) → True\n",
    "\n",
    "    def book_price(age, is_military, major, gpa, book_category):\n",
    "\n",
    "**Description**:  \n",
    "For this function, your task is to call ‘is_discount_applicable’ function (defined earlier) and calculate the book price that a customer needs to pay. The bookstore has the following pricing structure for different book categories:\n",
    "- \"science\" and \"fiction\": $30\n",
    "- \"novel\" and \"horror\": $20\n",
    "- \"mystery\": $10\n",
    "- \"comic\": $15\n",
    "- Not among the categories listed above: $0\n",
    "\n",
    "The bookstore offers discounts based on the user's eligibility for the following book categories:\n",
    "- 20% discount for \"comic\" and \"fiction\" categories of books.\n",
    "- 40% discount for \"novel\" books.\n",
    "- No discount for other book categories.\n",
    "\n",
    "Using the above information, calculate the book price for the customer after discounts have been applied.\n",
    "\n",
    "**Parameters**:  \n",
    "`age` (int, indicating customer’s age)  \n",
    "`is_military` (bool, indicating the military status of customer)  \n",
    "`major` (str, indicating customer’s major)  \n",
    "`gpa` (float, indicating customer’s gpa)  \n",
    "`book_category` (str, indicating the category of book)  \n",
    "\n",
    "**Assumptions**: `gpa` is non-negative (>= 0) with maximum value of 4. `book_category` is all lowercase\n",
    "\n",
    "**Return value**: A float, representing the book price for the customer.\n",
    "\n",
    "**Examples**:\n",
    "\n",
    "    book_price(16, False, “CSE”, 3.8, “fiction”) → 24.0\n",
    "    book_price(37, True, “”, 0.0, “mystery”) → 10.0\n",
    "    book_price(24, False, “IST”, 4.0, “comic”) → 15.0"
   ]
  },
  {
   "cell_type": "code",
   "execution_count": 5,
   "metadata": {},
   "outputs": [],
   "source": [
    "def is_discount_applicable(age: int, is_military: bool, major: str, gpa: float) -> bool:\n",
    "    \"\"\"Check if a customer is eligible to receive a discount.\n",
    "\n",
    "    Persons in military services: are eligible.\n",
    "    Seniors (60 and above): are eligible.\n",
    "    Students in the 'CSE' major with a GPA of at least 3.7 are also eligible.\n",
    "\n",
    "    Args:\n",
    "        age (int): indicating customer's age\n",
    "        is_military (bool): indicating the military status of customer\n",
    "        major (str): indicating customer's major\n",
    "        gpa (float): indicating customer's gpa\n",
    "\n",
    "    Returns:\n",
    "        bool: indicating whether the customer is eligible for a discount or not.\n",
    "    \"\"\"\n",
    "    return is_military or age >= 60 or (major.lower() == \"cse\" and gpa >= 3.7)"
   ]
  },
  {
   "cell_type": "code",
   "execution_count": 6,
   "metadata": {},
   "outputs": [
    {
     "name": "stdout",
     "output_type": "stream",
     "text": [
      "True\n",
      "True\n",
      "False\n",
      "True\n"
     ]
    }
   ],
   "source": [
    "print(is_discount_applicable(16, False, \"CSE\", 3.8))  # True\n",
    "print(is_discount_applicable(37, True, \"\", 0.0))  # True\n",
    "print(is_discount_applicable(24, False, \"ISt\", 4.0))  # False\n",
    "print(is_discount_applicable(71, False, \"\", 0.0))  # True"
   ]
  },
  {
   "cell_type": "code",
   "execution_count": 7,
   "metadata": {},
   "outputs": [],
   "source": [
    "def book_price(\n",
    "    age: int,\n",
    "    is_military: bool,\n",
    "    major: str,\n",
    "    gpa: float,\n",
    "    book_category: str,\n",
    ") -> float:\n",
    "    \"\"\"Calculate the book price that a customer needs to pay.\n",
    "\n",
    "    The bookstore has the following pricing structure for different book categories:\n",
    "    - \"science\" and \"fiction\": $30\n",
    "    - \"novel\" and \"horror\": $20\n",
    "    - \"mystery\": $10\n",
    "    - \"comic\": $15\n",
    "    - Not among the categories listed above: $0\n",
    "\n",
    "    The bookstore offers discounts based on the user's eligibility for the following book categories:\n",
    "    - 20% discount for \"comic\" and \"fiction\" categories of books.\n",
    "    - 40% discount for \"novel\" books.\n",
    "    - No discount for other book categories.\n",
    "\n",
    "    Using the above information, calculate the book price for the customer after discounts have been applied.\n",
    "\n",
    "    Args:\n",
    "        age (int): indicating customer's age\n",
    "        is_military (bool): indicating the military status of customer\n",
    "        major (str): indicating customer's major\n",
    "        gpa (float): indicating customer's gpa\n",
    "        book_category (str): indicating the category of book\n",
    "\n",
    "    Returns:\n",
    "        float: representing the book price for the customer.\n",
    "    \"\"\"\n",
    "\n",
    "    if book_category == \"science\":\n",
    "        price = 30\n",
    "        discount = 0\n",
    "    elif book_category == \"fiction\":\n",
    "        price = 30\n",
    "        discount = 0.2\n",
    "    elif book_category == \"novel\":\n",
    "        price = 20\n",
    "        discount = 0.4\n",
    "    elif book_category == \"horror\":\n",
    "        price = 20\n",
    "        discount = 0\n",
    "    elif book_category == \"mystery\":\n",
    "        price = 10\n",
    "        discount = 0\n",
    "    elif book_category == \"comic\":\n",
    "        price = 15\n",
    "        discount = 0.2\n",
    "    else:\n",
    "        price = 0\n",
    "        discount = 0\n",
    "\n",
    "    if is_discount_applicable(age, is_military, major, gpa):\n",
    "        return price - (discount * price)\n",
    "\n",
    "    return price"
   ]
  },
  {
   "cell_type": "code",
   "execution_count": 8,
   "metadata": {},
   "outputs": [
    {
     "name": "stdout",
     "output_type": "stream",
     "text": [
      "24.0\n",
      "10\n",
      "15\n"
     ]
    }
   ],
   "source": [
    "print(book_price(16, False, \"CSE\", 3.8, \"fiction\"))  # 24.0\n",
    "print(book_price(37, True, \"\", 0.0, \"mystery\"))  # 10.0\n",
    "print(book_price(24, False, \"IST\", 4.0, \"comic\"))  # 15.0"
   ]
  }
 ],
 "metadata": {
  "kernelspec": {
   "display_name": "base",
   "language": "python",
   "name": "python3"
  },
  "language_info": {
   "codemirror_mode": {
    "name": "ipython",
    "version": 3
   },
   "file_extension": ".py",
   "mimetype": "text/x-python",
   "name": "python",
   "nbconvert_exporter": "python",
   "pygments_lexer": "ipython3",
   "version": "3.12.2"
  }
 },
 "nbformat": 4,
 "nbformat_minor": 2
}
