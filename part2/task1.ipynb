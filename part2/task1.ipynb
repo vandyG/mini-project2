{
 "cells": [
  {
   "cell_type": "markdown",
   "metadata": {},
   "source": [
    "Manage a single parking lane\n",
    "\n",
    "    def empty_or_full (parking_lane, capacity):\n",
    "\n",
    "**Description**:  \n",
    "This function determines whether there is room in the parking lane and whether it is empty.\n",
    "\n",
    "**Parameters**:  \n",
    "`parking_lane` (list of strings (list[str]) indicating the currently parked license plates)  \n",
    "`capacity` (an int, indicating the maximum number of cars that fit into the parking lane)  \n",
    "\n",
    "**Assumptions**:  \n",
    "len(parking_lane) <= capacity, and capacity is positive (>= 1)\n",
    "\n",
    "**Return value**: A str, as follows:\n",
    "- If parking_lane has no elements, return string \"empty\"\n",
    "- If the number of elements in parking_lane equals capacity, return string \"full\"\n",
    "- If the number of items in parking_lane is neither 0 nor capacity , return \"neither\"\n",
    "\n",
    "**Examples**:\n",
    "\n",
    "    empty_or_full(['RTY-5655', 'FF 22', 'LKJ-7250'], 3) → \"full\"\n",
    "    empty_or_full(['RTY-5655', 'FF 22', 'LKJ-7250'], 10) → \"neither\"\n",
    "    empty_or_full([], 1) → \"empty\"\n",
    "\n",
    "    def park_cars (parking_lane, capacity, cars_to_park):\n",
    "\n",
    "**Description**:  \n",
    "This function places more cars from cars_to_park into parking_lane, without exceeding capacity.\n",
    "\n",
    "**Parameters**:  \n",
    "`parking_lane` (list of strings (list[str]) indicating the currently parked license plates)  \n",
    "`capacity` (an int, indicating the maximum number of cars that fit into the parking lane)  \n",
    "`cars_to_park` (list of strings (list[str]) indicating the cars to add to parking_lane)  \n",
    "\n",
    "**Assumptions**: len(parking_lane) <= capacity, and capacity is positive (>= 1)\n",
    "\n",
    "**Return value**: A list, representing the parking_lane after receiving updates from cars_to_park up to capacity. The cars in the returned list should preserve their original ordering from parking_lane followed by cars_to_park.\n",
    "\n",
    "**Examples**:\n",
    "\n",
    "    park_cars(['RTY-5655'], 2, ['FF 22', 'LKJ-7250']) → ['RTY-5655', 'FF 22']\n",
    "    park_cars(['RTY-5655'], 1, ['FF 22', 'LKJ-7250']) → ['RTY-5655']\n",
    "    park_cars(['RTY-5655'], 2, []) → ['RTY-5655']\n",
    "    \n",
    "    def retrieve_cars (parking_lane, cars_to_retrieve):\n",
    "\n",
    "**Description**:  \n",
    "This function removes from parking_lane any cars that are in the list cars_to_retrieve.\n",
    "\n",
    "**Parameters**:  \n",
    "`parking_lane` (list of strings (list[str]) indicating the currently parked license plates)  \n",
    "`cars_to_retrieve` (list of strings (list[str]) indicating the cars that need to be removed from parking_lane)  \n",
    "\n",
    "**Assumptions**: parking_lane does not contain duplicate strings (no equal strings at different locations).\n",
    "\n",
    "**Return value**: A list, representing the parking_lane list after removing cars from cars_to_retrieve. The cars in the returned list should preserve their original ordering.\n",
    "\n",
    "**Examples**:\n",
    "\n",
    "    retrieve_cars(['FF 22', 'LKJ-7250'], ['RTY-5655']) → ['FF 22', 'LKJ-7250']\n",
    "    retrieve_cars(['RTY-5655'], ['FF 22', 'LKJ-7250'])\n",
    "    retrieve_cars(['RTY-5655'], []) → ['RTY-5655'] → ['RTY-5655']\n",
    "    retrieve_cars(['RTY-5655'], ['RTY-5655']) → []\n",
    "\n",
    "\n",
    "    def check_cars (parking_lane, cars_to_check):\n",
    "\n",
    "**Description**:  \n",
    "This function verifies whether all the cars in cars_to_check are in parking_lane.\n",
    "\n",
    "**Parameters**:  \n",
    "`parking_lane` (list of strings (list[str]) indicating the currently parked license plates)  \n",
    "`cars_to_check` (list of strings (list[str]) indicating the cars to check)  \n",
    "\n",
    "**Assumptions**: No assumptions.\n",
    "\n",
    "**Return value**: A bool. This function returns True if all of the cars in cars_to_check are in parking_lane, and it returns False otherwise.\n",
    "\n",
    "**Examples**:\n",
    "\n",
    "    check_cars(['RTY-5655'], ['FF 22', 'LKJ-7250']) → False\n",
    "    check_cars(['FF 22', 'LKJ-7250'], ['RTY-5655']) → False\n",
    "    check_cars(['FF 22', 'LKJ-7250'], ['FF 22']) → True\n",
    "    check_cars(['RTY-5655'], []) → True"
   ]
  },
  {
   "cell_type": "code",
   "execution_count": 10,
   "metadata": {},
   "outputs": [],
   "source": [
    "def empty_or_full(parking_lane: list[str], capacity: int) -> str:\n",
    "    \"\"\"Determines whether there is room in the parking lane and whether it is empty.\n",
    "\n",
    "    Args:\n",
    "        parking_lane (list of strings (list[str])): indicating the currently parked license plates\n",
    "        capacity (an int): indicating the maximum number of cars that fit into the parking lane\n",
    "\n",
    "    Returns:\n",
    "        str: as follows:\n",
    "        - If parking_lane has no elements, return string \"empty\"\n",
    "        - If the number of elements in parking_lane equals capacity, return string \"full\"\n",
    "        - If the number of items in parking_lane is neither 0 nor capacity , return \"neither\"\n",
    "    \"\"\"\n",
    "    # Check if the parking lane is empty\n",
    "    if len(parking_lane) == 0:\n",
    "        return \"empty\"\n",
    "    # Check if the parking lane is full\n",
    "    elif len(parking_lane) == capacity:\n",
    "        return \"full\"\n",
    "    # Otherwise, the lane is neither empty nor full\n",
    "    else:\n",
    "        return \"neither\""
   ]
  },
  {
   "cell_type": "code",
   "execution_count": 11,
   "metadata": {},
   "outputs": [
    {
     "name": "stdout",
     "output_type": "stream",
     "text": [
      "full\n",
      "neither\n",
      "empty\n"
     ]
    }
   ],
   "source": [
    "print(empty_or_full(['RTY-5655', 'FF 22', 'LKJ-7250'], 3)) # \"full\"\n",
    "print(empty_or_full(['RTY-5655', 'FF 22', 'LKJ-7250'], 10)) # \"neither\"\n",
    "print(empty_or_full([], 1)) # \"empty\""
   ]
  },
  {
   "cell_type": "code",
   "execution_count": 12,
   "metadata": {},
   "outputs": [],
   "source": [
    "def park_cars(\n",
    "    parking_lane: list[str], capacity: int, cars_to_park: list[str]\n",
    ") -> list[str]:\n",
    "    \"\"\"Places more cars from cars_to_park into parking_lane, without exceeding capacity.\n",
    "\n",
    "    Args:\n",
    "        parking_lane (list of strings (list[str])): indicating the currently parked license plates\n",
    "        capacity (an int): indicating the maximum number of cars that fit into the parking lane\n",
    "        cars_to_park (list of strings (list[str])): indicating the cars to add to parking_lane\n",
    "\n",
    "    Returns:\n",
    "        list: representing the parking_lane after receiving updates from cars_to_park up to capacity.\n",
    "        The cars in the returned list should preserve their original ordering from parking_lane followed by\n",
    "        cars_to_park.\n",
    "    \"\"\"\n",
    "    # Iterate through each car in the list of cars to park\n",
    "    for car in cars_to_park:\n",
    "        # If there is space, add the car to the end of the parking lane\n",
    "        if len(parking_lane) < capacity:\n",
    "            parking_lane.append(car)\n",
    "    return parking_lane"
   ]
  },
  {
   "cell_type": "code",
   "execution_count": 13,
   "metadata": {},
   "outputs": [
    {
     "name": "stdout",
     "output_type": "stream",
     "text": [
      "['RTY-5655', 'FF 22']\n",
      "['RTY-5655']\n",
      "['RTY-5655']\n"
     ]
    }
   ],
   "source": [
    "print(park_cars(['RTY-5655'], 2, ['FF 22', 'LKJ-7250'])) # ['RTY-5655', 'FF 22']\n",
    "print(park_cars(['RTY-5655'], 1, ['FF 22', 'LKJ-7250'])) # ['RTY-5655']\n",
    "print(park_cars(['RTY-5655'], 2, [])) # ['RTY-5655']"
   ]
  },
  {
   "cell_type": "code",
   "execution_count": 14,
   "metadata": {},
   "outputs": [],
   "source": [
    "def retrieve_cars(parking_lane: list[str], cars_to_retrieve: list[str]) -> list[str]:\n",
    "    \"\"\"Removes from parking_lane any cars that are in the list cars_to_retrieve.\n",
    "\n",
    "    Args:\n",
    "        parking_lane (list of strings (list[str])): indicating the currently parked license plates\n",
    "        cars_to_retrieve (list of strings (list[str])): indicating the cars that need to be removed from\n",
    "        parking_lane\n",
    "\n",
    "    Returns:\n",
    "        list: representing the parking_lane list after removing cars from cars_to_retrieve. The cars in\n",
    "        the returned list should preserve their original ordering.\n",
    "    \"\"\"\n",
    "    # Iterate through each car in the list of cars to retrieve\n",
    "    for car in cars_to_retrieve:\n",
    "        # Check if the car is in the parking lane\n",
    "        if car in parking_lane:\n",
    "            # If the car is found, remove it from the parking lane\n",
    "            parking_lane.remove(car)\n",
    "    return parking_lane"
   ]
  },
  {
   "cell_type": "code",
   "execution_count": 15,
   "metadata": {},
   "outputs": [
    {
     "name": "stdout",
     "output_type": "stream",
     "text": [
      "['FF 22', 'LKJ-7250']\n",
      "['RTY-5655']\n",
      "['RTY-5655']\n",
      "[]\n"
     ]
    }
   ],
   "source": [
    "print(retrieve_cars(['FF 22', 'LKJ-7250'], ['RTY-5655'])) # ['FF 22', 'LKJ-7250']\n",
    "print(retrieve_cars(['RTY-5655'], ['FF 22', 'LKJ-7250'])) # ['RTY-5655']\n",
    "print(retrieve_cars(['RTY-5655'], [])) # ['RTY-5655']\n",
    "print(retrieve_cars(['RTY-5655'], ['RTY-5655'])) # []"
   ]
  },
  {
   "cell_type": "code",
   "execution_count": 16,
   "metadata": {},
   "outputs": [],
   "source": [
    "def check_cars(parking_lane: list[str], cars_to_check: list[str]) -> bool:\n",
    "    \"\"\"Verifies whether all the cars in cars_to_check are in parking_lane.\n",
    "\n",
    "    Args:\n",
    "        parking_lane (list of strings (list[str])): indicating the currently parked license plates\n",
    "        cars_to_check (list of strings (list[str])): indicating the cars to check\n",
    "\n",
    "    Returns:\n",
    "        bool: This function returns True if all of the cars in cars_to_check are in parking_lane, and it\n",
    "        returns False otherwise.\n",
    "    \"\"\"\n",
    "    # Iterate through each car in the list of cars to check\n",
    "    for car in cars_to_check:\n",
    "        #  If any car is not found in the parking lane\n",
    "        if car not in parking_lane:\n",
    "            # Return False immediately, as not all cars are present\n",
    "            return False\n",
    "    #  If all cars have been checked and none were missing, return True\n",
    "    return True"
   ]
  },
  {
   "cell_type": "code",
   "execution_count": 17,
   "metadata": {},
   "outputs": [
    {
     "name": "stdout",
     "output_type": "stream",
     "text": [
      "False\n",
      "False\n",
      "True\n",
      "True\n"
     ]
    }
   ],
   "source": [
    "print(check_cars(['RTY-5655'], ['FF 22', 'LKJ-7250'])) # False\n",
    "print(check_cars(['FF 22', 'LKJ-7250'], ['RTY-5655'])) # False\n",
    "print(check_cars(['FF 22', 'LKJ-7250'], ['FF 22'])) # True\n",
    "print(check_cars(['RTY-5655'], [])) # True"
   ]
  }
 ],
 "metadata": {
  "kernelspec": {
   "display_name": "base",
   "language": "python",
   "name": "python3"
  },
  "language_info": {
   "codemirror_mode": {
    "name": "ipython",
    "version": 3
   },
   "file_extension": ".py",
   "mimetype": "text/x-python",
   "name": "python",
   "nbconvert_exporter": "python",
   "pygments_lexer": "ipython3",
   "version": "3.12.2"
  }
 },
 "nbformat": 4,
 "nbformat_minor": 2
}
