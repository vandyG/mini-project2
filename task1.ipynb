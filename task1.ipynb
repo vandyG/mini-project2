{
 "cells": [
  {
   "cell_type": "markdown",
   "metadata": {
    "vscode": {
     "languageId": "bat"
    }
   },
   "source": [
    "For this function, your task is to recommend a gift based on user's preference and\n",
    "budget, the parameters of the function. The function should return a string recommending a gift\n",
    "based on the following conditions:\n",
    "\n",
    "| Preference        | Budget                                  | Gift (return string) |\n",
    "|-------------------|-----------------------------------------|----------------------|\n",
    "| electronics       | Equal or under $100                     | \"gaming earbuds\"     |\n",
    "| electronics       | Above $100 but under or equal $200      | \"headphone\"          |\n",
    "| electronics       | Above $200                              | \"smart watch\"        |\n",
    "| clothing          | Equal or under $25                      | \"tops\"               |\n",
    "| clothing          | Equal or under $50 but above $25        | \"jackets\"            |\n",
    "| clothing          | Equal or under $100 but above $50       | \"shoes\"              |\n",
    "| clothing          | Above $100                              | \"suits\"              |\n",
    "| jewelry           | Under $500                              | \"ring\"               |\n",
    "| jewelry           | Equal or above $500 but under $1000     | \"necklace\"           |\n",
    "| jewelry           | Equal or above $1000                    | \"bracelet\"           |\n",
    "| not listed above  | any price                               | \"decorative gifts!\"  |\n",
    "\n",
    "**Parameters**:   \n",
    "  \n",
    "    preference (str, indicating user\"s preference or gift category)\n",
    "    budget (float, indicating user\"s budget)\n",
    "\n",
    "**Assumptions**:  \n",
    "  \n",
    "    budget is non-negative (>= 0)\n",
    "\n",
    "**Return value**:  \n",
    "  \n",
    "    A str, indicating the recommended gift.\n",
    "    \n",
    "**Examples**:\n",
    "  \n",
    "    gift_recommender(\"jewelry\", 100.0) → “ring”  \n",
    "    gift_recommender(\"clothing\", 66.0) → “shoes”  \n",
    "    gift_recommender(\"electronics\", 202.0) → “smart watch”  \n",
    "    gift_recommender(\"clothing\", 31.5) → “jackets”  \n",
    "    gift_recommender(\"jewelry\", 1500.0) → “bracelets”  "
   ]
  },
  {
   "cell_type": "code",
   "execution_count": 8,
   "metadata": {},
   "outputs": [],
   "source": [
    "def gift_recommender(preference, budget):\n",
    "    \"\"\"Recommends a gift based on user's preference and budget.\n",
    "\n",
    "    Assumption:\n",
    "        budget is non-negative (>= 0)\n",
    "\n",
    "    Args:\n",
    "        preference: The user's preference for the gift.\n",
    "        budget: The user's budget for the gift.\n",
    "\n",
    "    Returns:\n",
    "        A string recommending a gift based on the user's preference and budget.\n",
    "    \"\"\"\n",
    "    if preference == \"electronics\":\n",
    "        if budget <= 100:\n",
    "            return \"gaming earbuds\"\n",
    "        elif budget <= 200:\n",
    "            return \"headphone\"\n",
    "        else:\n",
    "            return \"smart watch\"\n",
    "    elif preference == \"clothing\":\n",
    "        if budget <= 25:\n",
    "            return \"tops\"\n",
    "        elif budget <= 50:\n",
    "            return \"jackets\"\n",
    "        elif budget <= 100:\n",
    "            return \"shoes\"\n",
    "        else:\n",
    "            return \"suits\"\n",
    "    elif preference == \"jewelry\":\n",
    "        if budget < 500:\n",
    "            return \"ring\"\n",
    "        elif budget < 1000:\n",
    "            return \"necklace\"\n",
    "        else:\n",
    "            return \"bracelet\"\n",
    "    else:\n",
    "        return \"decorative gifts!\""
   ]
  },
  {
   "cell_type": "code",
   "execution_count": 10,
   "metadata": {},
   "outputs": [
    {
     "name": "stdout",
     "output_type": "stream",
     "text": [
      "ring\n",
      "shoes\n",
      "smart watch\n",
      "jackets\n",
      "bracelet\n"
     ]
    }
   ],
   "source": [
    "# Sample Test Cases\n",
    "\n",
    "print(gift_recommender(\"jewelry\", 100.0)) # ring\n",
    "print(gift_recommender(\"clothing\", 66.0)) # shoes\n",
    "print(gift_recommender(\"electronics\", 202.0)) # smart watch\n",
    "print(gift_recommender(\"clothing\", 31.5)) # jackets\n",
    "print(gift_recommender(\"jewelry\", 1500.0)) # bracelets"
   ]
  }
 ],
 "metadata": {
  "kernelspec": {
   "display_name": "base",
   "language": "python",
   "name": "python3"
  },
  "language_info": {
   "codemirror_mode": {
    "name": "ipython",
    "version": 3
   },
   "file_extension": ".py",
   "mimetype": "text/x-python",
   "name": "python",
   "nbconvert_exporter": "python",
   "pygments_lexer": "ipython3",
   "version": "3.12.2"
  }
 },
 "nbformat": 4,
 "nbformat_minor": 2
}
